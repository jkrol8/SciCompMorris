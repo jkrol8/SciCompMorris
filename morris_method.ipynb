{
 "cells": [
  {
   "cell_type": "markdown",
   "metadata": {},
   "source": [
    "# Sensitivity Analysis: Morris Method"
   ]
  },
  {
   "cell_type": "code",
   "execution_count": 1,
   "metadata": {},
   "outputs": [],
   "source": [
    "import numpy as np\n",
    "import matplotlib.pyplot as plt"
   ]
  },
  {
   "cell_type": "markdown",
   "metadata": {},
   "source": [
    "## 1. What is sensitivity analysis and why do we need it?"
   ]
  },
  {
   "cell_type": "markdown",
   "metadata": {},
   "source": [
    "Explanation needed"
   ]
  },
  {
   "cell_type": "markdown",
   "metadata": {},
   "source": [
    "## 2. Methods for sensitivity analysis."
   ]
  },
  {
   "cell_type": "markdown",
   "metadata": {},
   "source": [
    "Global, local, screening, variance-based, OAT, regression blah blah"
   ]
  },
  {
   "cell_type": "markdown",
   "metadata": {},
   "source": [
    "## 3. Morris Method: a primer"
   ]
  },
  {
   "cell_type": "code",
   "execution_count": null,
   "metadata": {},
   "outputs": [],
   "source": []
  },
  {
   "cell_type": "markdown",
   "metadata": {},
   "source": [
    "## Sampling method"
   ]
  },
  {
   "cell_type": "markdown",
   "metadata": {},
   "source": [
    "One of the key challenges in Morris' Elementary Effects method is: how can we create sample trajectories so that the input space is well-explored in an efficient way? In his original design, Morris suggested a method that creates r trajectories consisting of (k+1) points from the input space. Each trajectory can be used to calculate k elementary effects, one for each input factor. This section explains how we can obtain a set of these trajectories that allows for efficient evaluation of elementary effects."
   ]
  },
  {
   "cell_type": "code",
   "execution_count": null,
   "metadata": {},
   "outputs": [],
   "source": []
  },
  {
   "cell_type": "markdown",
   "metadata": {},
   "source": [
    "### Choice of _p_ and ${\\Delta}$"
   ]
  },
  {
   "cell_type": "markdown",
   "metadata": {},
   "source": [
    "Choice of parameters _p_ and ${\\Delta}$ are a critical part of the implementation of Morris method. \n",
    "\n",
    "Generally, an even value is recommended as the choice for p, as this simplifies the choice of ${\\Delta}$. Assuming that p is equal, the delta is then chosen to be:\n",
    "\n",
    "$$ {\\Delta} = \\frac{p}{2(p-1)}$$\n",
    "\n",
    "According to Morris, this choice of ${\\Delta}$ ensures that there is an equal probability of sampling from each level of the grid. Below is an implementation of the function to get delta:"
   ]
  },
  {
   "cell_type": "code",
   "execution_count": 2,
   "metadata": {},
   "outputs": [],
   "source": [
    "def get_delta(num_levels):\n",
    "    \"\"\"\n",
    "    Function for obtaining delta for Morris method.\n",
    "    \n",
    "    Parameters:\n",
    "        num_levels - number of levels (p) of the input grid space.\n",
    "    \n",
    "    Returns:\n",
    "        delta - increment to be used when obtaining elementary effects\n",
    "    \"\"\"\n",
    "    delta = num_levels/(2*(num_levels-1))\n",
    "    return delta"
   ]
  },
  {
   "cell_type": "markdown",
   "metadata": {},
   "source": [
    "### x*"
   ]
  },
  {
   "cell_type": "markdown",
   "metadata": {},
   "source": [
    "Each trajectory begins with a base vector (denoted as **x***) that is randomly selected from a p-level grid ${\\Omega}$. The x* must be chosen in such a way so that after increasing one or more of the x* factors by ${\\Delta}$ the point still lies within the input space.\n",
    "\n",
    "In this implementation the grid from which we sample x* has boundaries of 0 and $(1 - {\\Delta})$. The number of availaible points is $p / 2$, which is a common choice... (TO DO)"
   ]
  },
  {
   "cell_type": "code",
   "execution_count": 3,
   "metadata": {},
   "outputs": [],
   "source": [
    "def get_x_star(num_levels, num_input, delta):\n",
    "    \"\"\"\n",
    "    Function for obtaining delta for Morris method.\n",
    "    \n",
    "    Parameters:\n",
    "        num_levels - number of levels (p) of the input grid space.\n",
    "        num_input - number of input factors of the model\n",
    "        delta - increment to be used when obtaining elementary effects\n",
    "    \n",
    "    Returns:\n",
    "        x_star - basis vector / starting for the Morris trajectories\n",
    "    \"\"\"\n",
    "    grid = np.linspace(0, 1-delta, int(num_levels/2))\n",
    "    x_star = np.random.choice(grid, size=num_input)\n",
    "    return x_star"
   ]
  },
  {
   "cell_type": "markdown",
   "metadata": {},
   "source": [
    "### Trajectories"
   ]
  },
  {
   "cell_type": "markdown",
   "metadata": {},
   "source": [
    "The idea behind the algorithm for generating a sampling trajectory is very simple: for a starting point (x*), a random factor is selected and this factor is incremented by $\\pm{\\Delta}$, generating a new point. This process is repeated until all factors have been moved once by ${\\Delta}$.\n",
    "\n",
    "A trajectory can be easily computed by considering it in a form of a matrix **B*** with dimensions of (k+1) x k, where each row is a point obtained by moving one factor of the model by ${\\Delta}$. To construct **B***, we first choose a strictly lower triangular matrix of 1's, **B**, with dimensions of (k+1)x(k). This ensures that only one input factor is changed at a time, as for every column index j, there are two rows that only differ in the jth entry."
   ]
  },
  {
   "cell_type": "markdown",
   "metadata": {},
   "source": [
    "The sampling matrix is then given by:\n",
    "    \n",
    "where $J_{k+1}$ allows to create k+1 copies of the starting point $x^*$ of trajectory\n"
   ]
  },
  {
   "cell_type": "markdown",
   "metadata": {},
   "source": [
    "A randomized version of this matrix is given by:\n",
    "\n",
    "$J_{k+1,1}x^*$ : creates k+1 copies of point x*\n",
    "\n",
    "$D^*$: determines whether factors move by $+{\\Delta}$ or $-{\\Delta}$\n",
    "\n",
    "$P^*$ : a k-by-k random permutation matrix in which each row contains an element equal to 1 with all other elements equal to 0. As no two columns have 1s in the same position, this matrix determines the order in which the factors move.\n",
    "\n"
   ]
  },
  {
   "cell_type": "code",
   "execution_count": 4,
   "metadata": {},
   "outputs": [],
   "source": [
    "def compute_Bstar(k, delta, x_star):\n",
    "    # Generate matrix B\n",
    "    B = np.tril(np.ones((k+1, k)), -1)\n",
    "    # Generate matrix J\n",
    "    J_copy = np.ones((k+1,1))\n",
    "    J = np.ones((k+1, k))\n",
    "    D_star = np.diag(np.random.choice([-1,1],size=k))\n",
    "    P_star = np.eye(k,k)\n",
    "    P_star = np.random.permutation(P_star)\n",
    "    \n",
    "    BmJ = 2*B-J\n",
    "    DeltaBmJ = ((np.matmul(BmJ,D_star) + J)*delta/2)\n",
    "    part1 = DeltaBmJ + J_copy*x_star\n",
    "    B_star = np.matmul(part1, P_star)\n",
    "    return B_star"
   ]
  },
  {
   "cell_type": "markdown",
   "metadata": {},
   "source": [
    "We then repeat the process for the desired number of trajectories, generating our final Morris sample:"
   ]
  },
  {
   "cell_type": "code",
   "execution_count": 5,
   "metadata": {},
   "outputs": [],
   "source": [
    "def morris_sample(k, n_trajectories, num_levels):\n",
    "    delta = get_delta(num_levels)\n",
    "    morris_sample = np.zeros([n_trajectories,k+1,k])\n",
    "    for i in range(n_trajectories):\n",
    "        x_star = get_x_star(num_levels, k, delta)\n",
    "        morris_sample[i, :,:] = compute_Bstar(k, delta, x_star)\n",
    "    return morris_sample"
   ]
  },
  {
   "cell_type": "markdown",
   "metadata": {},
   "source": [
    "## Elementary Effects"
   ]
  },
  {
   "cell_type": "markdown",
   "metadata": {},
   "source": [
    "Now that we have obtained our sample trajectories, majority of the hard work is done - we just need to evaluate our model on the sampled points and calculate the elementary effects. To recap, the elementary effect is defined as:\n",
    "\n",
    "$$  EE_i=  \\frac{[Y(X_1,X_2,…,X_{i-1},X_i+\\Delta,…X_k )-Y(X_1,X_2,…,X_{i-1},X_i,…X_k )]}{\\Delta}$$\n",
    "\n"
   ]
  },
  {
   "cell_type": "markdown",
   "metadata": {},
   "source": [
    "Of course, looking at potentially 100s or 1000s elementary effects for each factor is probably not very informative. Morris thus proposed two sensitivity measures that can inform as about the effect of each factor.\n",
    "\n",
    "The estimate of the **mean** of distribution of the elementary effects for each factor, ${\\mu}$ , assesses the overall influence of the factor on the output of the model:\n",
    "$${\\mu_i} = \\frac{1}{r}\\sum_{j=1}^{r}EE_i^j$$\n",
    "where $r$ is the number of trajectories.\n",
    "\n",
    "The **standard deviation** of elementary effects of each factor, ${\\sigma^2}$, estimates factor's nonlinear or interaction effect:\n",
    "$${\\sigma_i^2} = \\frac{1}{r-1}\\sum_{j=1}^{r}(EE_i^j-{\\mu})$$"
   ]
  },
  {
   "cell_type": "markdown",
   "metadata": {},
   "source": [
    "As sometimes the elementary effects might cancel each other out, decreasing the mean, Campologno et al. (2007) proposed an additional sensitivity measure - ${\\mu^*}$, an estimate of the mean of distribution of the absolute elementary effects.\n",
    "$${\\mu_i} = \\frac{1}{r}\\sum_{j=1}^{r}\\left |{EE_i^j}\\right |$$"
   ]
  },
  {
   "cell_type": "markdown",
   "metadata": {},
   "source": [
    "Below is my implementation of the elementary effects method. It calculates and returns all three sensitivity metrics:"
   ]
  },
  {
   "cell_type": "code",
   "execution_count": 6,
   "metadata": {},
   "outputs": [],
   "source": [
    "def elementary_effects(sample, model, delta):\n",
    "    \n",
    "    y = np.zeros((sample.shape[0], sample.shape[1]))\n",
    "    for i in range(sample.shape[0]):\n",
    "        for j in range(sample.shape[1]):\n",
    "            args = sample[i,j].tolist()\n",
    "            y[i, j] = model(args)\n",
    "    \n",
    "    ee = np.zeros((sample.shape[0], sample.shape[2]))\n",
    "    \n",
    "    for i in range(sample.shape[0]):\n",
    "        for j in range(sample.shape[1]-1):\n",
    "            for k in range(sample.shape[2]):\n",
    "                if sample[i, j+1, k] > sample[i,j,k]:\n",
    "                    ee[i, k] = (y[i, j+1] - y[i,j])/delta\n",
    "                elif sample[i, j+1, k] < sample[i,j,k]:\n",
    "                    ee[i, k] = (y[i, j] - y[i,j+1])/delta\n",
    "    \n",
    "    ee_mean = [np.mean(ee[:,i]) for i in range(ee.shape[1])]\n",
    "    ee_absmean = [np.mean(np.abs(ee[:,i])) for i in range(ee.shape[1])]\n",
    "    ee_std = [np.std(ee[:,i]) for i in range(ee.shape[1])]\n",
    "    \n",
    "    return ee_mean, ee_absmean, ee_std"
   ]
  },
  {
   "cell_type": "markdown",
   "metadata": {},
   "source": [
    "## Analysis of obtained results"
   ]
  },
  {
   "cell_type": "markdown",
   "metadata": {},
   "source": [
    "We now have our summary statistics for elementary effects - but how do we interpret them? To show how one might perform a sensitivity analysis, we will test our implementation on a simple engineering function - Darcy's friction factor in terms of pressure loss and volumetric flow rate:\n",
    "\n",
    "Just by looking at the above formulae, we can expect to obtain results that suggest the diameter of the pipe is most influential.\n",
    "\n",
    "We start by generating our sampling trajectory:"
   ]
  },
  {
   "cell_type": "code",
   "execution_count": null,
   "metadata": {},
   "outputs": [],
   "source": []
  },
  {
   "cell_type": "markdown",
   "metadata": {},
   "source": [
    "We then have to scale our sampling trajectory - we assume nominal values of X and % variation."
   ]
  },
  {
   "cell_type": "markdown",
   "metadata": {},
   "source": [
    "Finally, we can calculate our sensitivity measures:"
   ]
  },
  {
   "cell_type": "markdown",
   "metadata": {},
   "source": [
    "Plotting ${\\sigma^2}$ versus ${\\mu^*}$:"
   ]
  },
  {
   "cell_type": "markdown",
   "metadata": {},
   "source": [
    "## Limitations"
   ]
  },
  {
   "cell_type": "markdown",
   "metadata": {},
   "source": [
    "## Comparison with available software for SA"
   ]
  },
  {
   "cell_type": "code",
   "execution_count": null,
   "metadata": {},
   "outputs": [],
   "source": []
  },
  {
   "cell_type": "markdown",
   "metadata": {},
   "source": [
    "## 5. Morris method extensions"
   ]
  },
  {
   "cell_type": "code",
   "execution_count": null,
   "metadata": {},
   "outputs": [],
   "source": []
  }
 ],
 "metadata": {
  "kernelspec": {
   "display_name": "scipy-dev",
   "language": "python",
   "name": "scipy-dev"
  },
  "language_info": {
   "codemirror_mode": {
    "name": "ipython",
    "version": 3
   },
   "file_extension": ".py",
   "mimetype": "text/x-python",
   "name": "python",
   "nbconvert_exporter": "python",
   "pygments_lexer": "ipython3",
   "version": "3.8.5"
  }
 },
 "nbformat": 4,
 "nbformat_minor": 2
}
