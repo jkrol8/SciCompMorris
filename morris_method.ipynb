{
 "cells": [
  {
   "cell_type": "markdown",
   "metadata": {},
   "source": [
    "# Sensitivity Analysis: Morris Method"
   ]
  },
  {
   "cell_type": "code",
   "execution_count": 1,
   "metadata": {},
   "outputs": [],
   "source": [
    "import numpy as np\n",
    "import matplotlib.pyplot as plt"
   ]
  },
  {
   "cell_type": "markdown",
   "metadata": {},
   "source": [
    "In this notebook, we will implement Morris Method of Elementary Effects, which is used as a sensitivity analysis method to screen input factors of a model for importance. It varies each factor one at a time and evaluates how the model output changes.\n",
    "\n",
    "The explanation and implementation was based on \"Global Sensitivity Analysis: The Primer\" by Saltelli et al."
   ]
  },
  {
   "cell_type": "markdown",
   "metadata": {},
   "source": [
    " ## Morris Method: a brief introduction"
   ]
  },
  {
   "cell_type": "markdown",
   "metadata": {},
   "source": [
    "The method of elementary effects was originally proposed by Morris to identify input factors of a model whose effects could be considered to be (1) negligible, (2) linear and additive, or (3) non-linear / due to interactions with other factors.\n",
    "\n",
    "Briefly, elementary effects for a model with k input factors are obtained by varying each factor in a discretized input space, in a form of a grid $\\Omega$ with pre-defined number of levels p. Then, the elementary effect of the i-th input factor, given a specific point in the p-level grid, is defined as: \n",
    "\n",
    "$$  EE_i=  \\frac{[Y(X_1,X_2,…,X_{i-1},X_i+\\Delta,…X_k )-Y(X_1,X_2,…,X_{i-1},X_i,…X_k )]}{\\Delta}$$\n",
    "\n",
    "where $\\Delta$ is a value in $\\left \\{1/(p-1), ..., 1-1/(p-1)\\right \\} $, $X$ are selected values in grid-space $\\Omega$ and $Y(X)$ is model evaluation on a given point."
   ]
  },
  {
   "cell_type": "markdown",
   "metadata": {},
   "source": [
    "## Sampling method"
   ]
  },
  {
   "cell_type": "markdown",
   "metadata": {},
   "source": [
    "One of the key challenges in Morris' Elementary Effects method is: how can we create sample trajectories so that the input space is well-explored in an efficient way? In his original design, Morris suggested a method that creates r trajectories consisting of (k+1) points from the input space. Each trajectory can be used to calculate k elementary effects, one for each input factor. This section explains how we can obtain a set of these trajectories that allows for efficient evaluation of elementary effects."
   ]
  },
  {
   "cell_type": "markdown",
   "metadata": {},
   "source": [
    "### Choice of _p_ and ${\\Delta}$"
   ]
  },
  {
   "cell_type": "markdown",
   "metadata": {},
   "source": [
    "Choice of parameters _p_ and ${\\Delta}$ are a critical part of the implementation of Morris method. \n",
    "\n",
    "Generally, an even value is recommended as the choice for p, as this simplifies the choice of ${\\Delta}$. Assuming that p is equal, the delta is then chosen to be:\n",
    "\n",
    "$$ {\\Delta} = \\frac{p}{2(p-1)}$$\n",
    "\n",
    "According to Morris, this choice of ${\\Delta}$ ensures that there is an equal probability of sampling from each level of the grid. Below is an implementation of the function to get delta:"
   ]
  },
  {
   "cell_type": "code",
   "execution_count": 2,
   "metadata": {},
   "outputs": [],
   "source": [
    "def get_delta(num_levels):\n",
    "    \"\"\"\n",
    "    Function for obtaining delta for Morris method.\n",
    "    \n",
    "    Parameters:\n",
    "        num_levels - number of levels (p) of the input grid space.\n",
    "    \n",
    "    Returns:\n",
    "        delta - increment to be used when obtaining elementary effects\n",
    "    \"\"\"\n",
    "    delta = num_levels/(2*(num_levels-1))\n",
    "    return delta"
   ]
  },
  {
   "cell_type": "markdown",
   "metadata": {},
   "source": [
    "### x*"
   ]
  },
  {
   "cell_type": "markdown",
   "metadata": {},
   "source": [
    "Each trajectory begins with a base vector (denoted as **x***) that is randomly selected from a p-level grid ${\\Omega}$. The x* must be chosen in such a way so that after increasing one or more of the x* factors by ${\\Delta}$ the point still lies within the input space.\n",
    "\n",
    "In this implementation the grid from which we sample x* has boundaries of 0 and $(1 - {\\Delta})$. The number of availaible points is chosen to be $p / 2$, which is a recommended choice."
   ]
  },
  {
   "cell_type": "code",
   "execution_count": 3,
   "metadata": {},
   "outputs": [],
   "source": [
    "def get_x_star(num_levels, num_input, delta):\n",
    "    \"\"\"\n",
    "    Function for obtaining delta for Morris method.\n",
    "    \n",
    "    Parameters:\n",
    "        num_levels - number of levels (p) of the input grid space.\n",
    "        num_input - number of input factors of the model\n",
    "        delta - increment to be used when obtaining elementary effects\n",
    "    \n",
    "    Returns:\n",
    "        x_star - basis vector / starting for the Morris trajectories\n",
    "    \"\"\"\n",
    "    grid = np.linspace(0, 1-delta, int(num_levels/2))\n",
    "    x_star = np.random.choice(grid, size=num_input)\n",
    "    return x_star"
   ]
  },
  {
   "cell_type": "markdown",
   "metadata": {},
   "source": [
    "### Trajectories"
   ]
  },
  {
   "cell_type": "markdown",
   "metadata": {},
   "source": [
    "The idea behind the algorithm for generating a sampling trajectory is very simple: for a starting point (x*), a random factor is selected and this factor is incremented by $\\pm{\\Delta}$, generating a new point. This process is repeated until all factors have been moved once by ${\\Delta}$.\n",
    "\n",
    "A trajectory can be easily computed by considering it in a form of a matrix **B*** with dimensions of (k+1) x k, where each row is a point obtained by moving one factor of the model by ${\\Delta}$. To construct **B***, we first choose a strictly lower triangular matrix of 1's, **B**, with dimensions of (k+1)x(k). This ensures that only one input factor is changed at a time, as for every column index j, there are two rows that only differ in the jth entry."
   ]
  },
  {
   "cell_type": "markdown",
   "metadata": {},
   "source": [
    "The sampling matrix is then given by:\n",
    "\n",
    "$$ B' = J_{k+1,k}x^* + {\\Delta}B$$\n",
    "    \n",
    "where $J_{k+1,k}$ allows to create k+1 copies of the starting point $x^*$ of trajectory\n"
   ]
  },
  {
   "cell_type": "markdown",
   "metadata": {},
   "source": [
    "A randomized version of this matrix is given by: \n",
    "$$ B^* = (J_{k+1,1}x^* + ({\\Delta}/2)\\left[(2B-J_{k+1,k})D^*+J_{k+1,k}\\right])P^* $$\n",
    "\n",
    "$J_{k+1,1}x^*$ : creates k+1 copies of point x*\n",
    "\n",
    "$D^*$: determines whether factors move by $+{\\Delta}$ or $-{\\Delta}$\n",
    "\n",
    "$P^*$ : a k-by-k random permutation matrix in which each row contains an element equal to 1 with all other elements equal to 0. As no two columns have 1s in the same position, this matrix determines the order in which the factors move.\n",
    "\n"
   ]
  },
  {
   "cell_type": "code",
   "execution_count": 4,
   "metadata": {},
   "outputs": [],
   "source": [
    "def compute_Bstar(num_input, delta, x_star):\n",
    "    \"\"\"\n",
    "    Function for obtaining a sample trajectory in form of B*.\n",
    "    \n",
    "    Parameters:\n",
    "        num_input - number of input factors of the model\n",
    "        delta - increment to be used when obtaining elementary effects\n",
    "        x_star - starting points for the Morris trajectories\n",
    "    \n",
    "    Returns:\n",
    "        B_star - a sample trajectory for Morris method.\n",
    "    \"\"\"\n",
    "    k = num_input\n",
    "    \n",
    "    B = np.tril(np.ones((k+1, k)), -1) # Obtain strictly lower triangular matrix\n",
    "    \n",
    "    # Obtain matrices J\n",
    "    J_copy = np.ones((k+1,1))\n",
    "    J = np.ones((k+1, k))\n",
    "    \n",
    "    # Obtain matrix D*\n",
    "    D_star = np.diag(np.random.choice([-1,1],size=k))\n",
    "    \n",
    "    # Obtain permutation matrix P*\n",
    "    P_star = np.eye(k,k)\n",
    "    P_star = np.random.permutation(P_star)\n",
    "    \n",
    "    \n",
    "    # Computation of B* is divided into three parts\n",
    "    part_a = ((np.matmul(2*B-J,D_star) + J)*delta/2)\n",
    "    part_b = part_a + J_copy*x_star\n",
    "    B_star = np.matmul(part_b, P_star)\n",
    "    return B_star"
   ]
  },
  {
   "cell_type": "markdown",
   "metadata": {},
   "source": [
    "We then repeat the process for the desired number of trajectories, generating our final Morris sample:"
   ]
  },
  {
   "cell_type": "code",
   "execution_count": 5,
   "metadata": {},
   "outputs": [],
   "source": [
    "def morris_sample(num_input, n_trajectories, num_levels):\n",
    "    \"\"\"\n",
    "    Function for generating sample trajectories for Morris method of Elementary Effects.\n",
    "    \n",
    "    Parameters:\n",
    "        num_input - number of input factors of the model\n",
    "        n_trajectories - number of trajectories to be calculated\n",
    "        num_levels - number of levels in the grid space\n",
    "    \n",
    "    Returns:\n",
    "        B_star - a sample trajectory for Morris method.\n",
    "    \"\"\"\n",
    "    k = num_input\n",
    "    \n",
    "    delta = get_delta(num_levels)\n",
    "    \n",
    "    morris_sample = np.zeros([n_trajectories,k+1,k])\n",
    "    \n",
    "    for i in range(n_trajectories):\n",
    "        x_star = get_x_star(num_levels, k, delta)\n",
    "        \n",
    "        morris_sample[i, :,:] = compute_Bstar(k, delta, x_star)\n",
    "        \n",
    "    return morris_sample"
   ]
  },
  {
   "cell_type": "markdown",
   "metadata": {},
   "source": [
    "## Elementary Effects"
   ]
  },
  {
   "cell_type": "markdown",
   "metadata": {},
   "source": [
    "Now that we have obtained our sample trajectories, majority of the hard work is done - we just need to evaluate our model on the sampled points and calculate the elementary effects. To recap, the elementary effect is defined as:\n",
    "\n",
    "$$  EE_i=  \\frac{[Y(X_1,X_2,…,X_{i-1},X_i+\\Delta,…X_k )-Y(X_1,X_2,…,X_{i-1},X_i,…X_k )]}{\\Delta}$$\n",
    "\n"
   ]
  },
  {
   "cell_type": "markdown",
   "metadata": {},
   "source": [
    "Of course, looking at potentially 100s or 1000s elementary effects for each factor is probably not very informative. Morris thus proposed two sensitivity measures that can inform as about the effect of each factor.\n",
    "\n",
    "The estimate of the **mean** of distribution of the elementary effects for each factor, ${\\mu}$ , assesses the overall influence of the factor on the output of the model:\n",
    "$${\\mu_i} = \\frac{1}{r}\\sum_{j=1}^{r}EE_i^j$$\n",
    "where $r$ is the number of trajectories.\n",
    "\n",
    "The **standard deviation** of elementary effects of each factor, ${\\sigma^2}$, estimates factor's nonlinear or interaction effect:\n",
    "$${\\sigma_i^2} = \\frac{1}{r-1}\\sum_{j=1}^{r}(EE_i^j-{\\mu})$$"
   ]
  },
  {
   "cell_type": "markdown",
   "metadata": {},
   "source": [
    "As sometimes the elementary effects might cancel each other out, decreasing the mean, Campologno et al. (2007) proposed an additional sensitivity measure - ${\\mu^*}$, an estimate of the mean of distribution of the absolute elementary effects.\n",
    "$${\\mu_i} = \\frac{1}{r}\\sum_{j=1}^{r}\\left |{EE_i^j}\\right |$$"
   ]
  },
  {
   "cell_type": "markdown",
   "metadata": {},
   "source": [
    "Below is my implementation of the elementary effects method. It calculates and returns all three sensitivity metrics:"
   ]
  },
  {
   "cell_type": "code",
   "execution_count": 6,
   "metadata": {},
   "outputs": [],
   "source": [
    "def elementary_effects(sample, model, delta):\n",
    "    \"\"\"\n",
    "    Function for calculating Elementary Effects.\n",
    "    \n",
    "    Parameters:\n",
    "        sample - sample trajectories generated via Morris method\n",
    "        model - function to be used to generate outputs\n",
    "        delta - increment to be used when obtaining elementary effects\n",
    "    \n",
    "    Returns:\n",
    "        ee_mean - means of elementary effects for each factor (known as mu)\n",
    "        ee_absmean - means of absolute elementary effects for each factor (known as mu_star)\n",
    "        ee_std - standard deviation of elementary effects for each factor (known as sigma^2)\n",
    "    \"\"\"   \n",
    "    y = np.zeros((sample.shape[0], sample.shape[1]))\n",
    "    for i in range(sample.shape[0]):\n",
    "        for j in range(sample.shape[1]):\n",
    "            args = sample[i,j].tolist()\n",
    "            y[i, j] = model(args)\n",
    "    \n",
    "    ee = np.zeros((sample.shape[0], sample.shape[2]))\n",
    "    \n",
    "    for i in range(sample.shape[0]):\n",
    "        for j in range(sample.shape[1]-1):\n",
    "            for k in range(sample.shape[2]):\n",
    "                if sample[i, j+1, k] > sample[i,j,k]:\n",
    "                    ee[i, k] = (y[i, j+1] - y[i,j])/delta\n",
    "                elif sample[i, j+1, k] < sample[i,j,k]:\n",
    "                    ee[i, k] = (y[i, j] - y[i,j+1])/delta\n",
    "    \n",
    "    ee_mean = [np.mean(ee[:,i]) for i in range(ee.shape[1])]\n",
    "    ee_absmean = [np.mean(np.abs(ee[:,i])) for i in range(ee.shape[1])]\n",
    "    ee_std = [np.std(ee[:,i]) for i in range(ee.shape[1])]\n",
    "    \n",
    "    return ee_mean, ee_absmean, ee_std"
   ]
  },
  {
   "cell_type": "markdown",
   "metadata": {},
   "source": [
    "## Analysis of obtained results"
   ]
  },
  {
   "cell_type": "markdown",
   "metadata": {},
   "source": [
    "We now have our summary statistics for elementary effects - but how do we interpret them? To show how one might perform a sensitivity analysis, we will test our implementation on a simple engineering function - Darcy's friction factor (calculated in terms of pressure loss and volumetric flow rate):\n",
    "$$ f = \\frac{{\\pi^2}d^5{\\Delta}P}{8{\\rho}Q^2L}$$\n",
    "\n",
    "where $f$ is friction factor, $d$ is diameter of the pipe, ${\\Delta}P$ is pressure loss, ${\\rho}$ is density of the fluid, $Q$ is volumetric flow rate and $L$ is length of the pipe.\n",
    "\n",
    "Just by looking at the above formulae, we can expect to obtain results that suggest the diameter of the pipe is most influential, followed by volumetric flow rate.\n"
   ]
  },
  {
   "cell_type": "code",
   "execution_count": 7,
   "metadata": {},
   "outputs": [],
   "source": [
    "def friction_factor(args):\n",
    "    \"\"\"\n",
    "    Function for calculating Darcy's friction factor\n",
    "    \n",
    "    Parameters:\n",
    "        args - a list of arguments to be passed to the function.\n",
    "        Need to be passed in this specific order: diameter, pressure loss, density, flow rate, length\n",
    "    \n",
    "    Returns:\n",
    "        friction_factor - Darcy's friction factor\n",
    "    \"\"\" \n",
    "    friction_factor = ((np.pi**2)*(args[0]**5)*args[1])/(8*args[2]*(args[3]**2)*args[4])\n",
    "    return friction_factor"
   ]
  },
  {
   "cell_type": "markdown",
   "metadata": {},
   "source": [
    "We start by generating our sampling trajectory:"
   ]
  },
  {
   "cell_type": "code",
   "execution_count": 8,
   "metadata": {},
   "outputs": [],
   "source": [
    "num_inputs = 5\n",
    "num_trajectory = 1000\n",
    "grid_level = 4\n",
    "\n",
    "B = morris_sample(num_inputs, num_trajectory, grid_level)"
   ]
  },
  {
   "cell_type": "markdown",
   "metadata": {},
   "source": [
    "We then have to scale our sampling trajectory - we assume mean values for each input factor: $$d - 0.05, \\Delta P - 80, \\rho - 1000, Q  - 0.003, L - 0.2$$\n",
    "and 25% variation."
   ]
  },
  {
   "cell_type": "code",
   "execution_count": 9,
   "metadata": {},
   "outputs": [],
   "source": [
    "def scale_sample(sample, nom_vals, var):\n",
    "    \"\"\"\n",
    "    Function for scaling a Morris sample for Elementary Effects. \n",
    "    Currently only supports scaling a uniform distribution.\n",
    "    \n",
    "    Parameters:\n",
    "        sample - sample trajectories generated via Morris method\n",
    "        nom_vals - nominal values to be used for scaling\n",
    "        var - variation around the norminal values to be used for scaling\n",
    "    \n",
    "    Returns:\n",
    "        sample - scaled Morris sample trajectories for elementary effects method.\n",
    "    \"\"\" \n",
    "    for i in range(sample.shape[0]):\n",
    "        for j in range(sample.shape[2]):\n",
    "            sample[i,:,j] = sample[i,:,j]*(nom_vals[j]*(1+var)-nom_vals[j]*(1-var))+nom_vals[j]*(1-var)\n",
    "\n",
    "    return sample"
   ]
  },
  {
   "cell_type": "code",
   "execution_count": 10,
   "metadata": {},
   "outputs": [],
   "source": [
    "scaled_sample = scale_sample(B, [0.05,80,1000,0.003,0.2], 0.25)"
   ]
  },
  {
   "cell_type": "markdown",
   "metadata": {},
   "source": [
    "Finally, we can calculate our sensitivity measures:"
   ]
  },
  {
   "cell_type": "code",
   "execution_count": 11,
   "metadata": {},
   "outputs": [],
   "source": [
    "delta = get_delta(grid_level)\n",
    "mu, mu_star, sigma = elementary_effects(scaled_sample, friction_factor, delta)"
   ]
  },
  {
   "cell_type": "markdown",
   "metadata": {},
   "source": [
    "To quickly analyse our obtained sensitivity measures, we plot ${\\sigma^2}$ versus ${\\mu^*}$ (we can also plot ${\\sigma^2}$ versus ${\\mu}$ if we wanted to) :"
   ]
  },
  {
   "cell_type": "code",
   "execution_count": 12,
   "metadata": {},
   "outputs": [],
   "source": [
    "def plot_ee_analysis(ee_mean, ee_std, legend, x_label):\n",
    "    \"\"\"\n",
    "    Function for plotting sensitivity measures obtained from EE method.\n",
    "    \n",
    "    Parameters:\n",
    "        ee_mean - mu or mu_star of elementary effects\n",
    "        ee_std - sigma^2 of elementary effects\n",
    "        legend - list of names of input factors\n",
    "    \"\"\" \n",
    "    plt.figure(figsize=(6,5), dpi=90)\n",
    "    for i in range(len(ee_mean)):\n",
    "        plt.scatter(ee_mean[i], ee_std[i])\n",
    "    plt.legend(legend)\n",
    "    plt.xlabel(x_label, fontsize = 14)\n",
    "    plt.ylabel(\"${\\sigma^2}$ of EEs\", fontsize = 14)\n",
    "    plt.grid(b=True, which='major', linewidth = 0.75, linestyle = '--')\n",
    "    plt.xlim([0.01, 0.06])\n",
    "    plt.ylim([0.01, 0.04])\n",
    "    plt.axline([0.01, 0.01], [0.06, 0.04], color='black', linewidth = 0.75)\n",
    "    "
   ]
  },
  {
   "cell_type": "code",
   "execution_count": 13,
   "metadata": {},
   "outputs": [
    {
     "data": {
      "image/png": "[encoded data removed]",
      "text/plain": [
       "<Figure size 540x450 with 1 Axes>"
      ]
     },
     "metadata": {
      "needs_background": "light"
     },
     "output_type": "display_data"
    }
   ],
   "source": [
    "legend = ['diameter', 'pressure loss', 'density', 'flow_rate', 'length']\n",
    "plot_ee_analysis(mu_star, sigma, legend, '${\\mu^*}$ of EEs')"
   ]
  },
  {
   "cell_type": "markdown",
   "metadata": {},
   "source": [
    "What can we tell from the above plot about our input factors? As expected, based on the obtained $\\mu^*$, the diameter has the largest influence on the output value, followed by volumetric flow rate. Looking at $\\sigma^2$, the diameter also has non-linear and/or interaction effects on the friction factor.\n",
    "\n",
    "Of course, in practice, we would have more factors to consider - this example is just a simple model to explain the elementary effects method for sensitivity analysis. \n",
    "\n",
    "As EEs are quite easy to implement and quick to calculate, they are typically used as a screening method of input factors - once we have identified important factors that actually have an actual effect on model output and fixed unimportant ones, we can perform further sensitivity analysis using more computationally expensive methods, such as variance based methods."
   ]
  },
  {
   "cell_type": "markdown",
   "metadata": {},
   "source": [
    "## Comparison with available software for SA"
   ]
  },
  {
   "cell_type": "markdown",
   "metadata": {},
   "source": [
    "To check if Morris method has been implemented correctly, we will compare our implementation with the method available from an open-source Python package, **SALib**, which can be found [here](https://github.com/SALib/SALib)."
   ]
  },
  {
   "cell_type": "code",
   "execution_count": 14,
   "metadata": {},
   "outputs": [],
   "source": [
    "from SALib.analyze import morris\n",
    "from SALib.sample.morris import sample"
   ]
  },
  {
   "cell_type": "code",
   "execution_count": 15,
   "metadata": {},
   "outputs": [],
   "source": [
    "# We first need to define our problem, including number of variables & boundaries for scaling\n",
    "problem = {\n",
    "  'num_vars': 5,\n",
    "  'names': ['diameter', 'p_difference', 'density', 'flow_rate', 'length'],\n",
    "  'groups': None,\n",
    "  'bounds': [[0.05*0.75, 1.25*0.05],\n",
    "             [60, 100],\n",
    "             [1000*0.75, 1000*1.25],\n",
    "             [0.003*0.75, 0.003*1.25],\n",
    "             [0.2*0.75, 0.2*1.25]]\n",
    " }"
   ]
  },
  {
   "cell_type": "code",
   "execution_count": 16,
   "metadata": {},
   "outputs": [],
   "source": [
    "# We then generate a Morris sample\n",
    "param_values = sample(problem, N=1000, num_levels=4,\n",
    "                      optimal_trajectories=None)"
   ]
  },
  {
   "cell_type": "code",
   "execution_count": 17,
   "metadata": {},
   "outputs": [],
   "source": [
    "# We evaluate the friction factor model on the generated samples\n",
    "y = np.zeros(param_values.shape[0])\n",
    "for i in range(param_values.shape[0]):\n",
    "    args = param_values[i].tolist()\n",
    "    y[i] = friction_factor(args)"
   ]
  },
  {
   "cell_type": "code",
   "execution_count": 18,
   "metadata": {},
   "outputs": [
    {
     "name": "stdout",
     "output_type": "stream",
     "text": [
      "Parameter                         Mu_Star         Mu    Mu_Star_Conf      Sigma\n",
      "diameter                            0.056      0.056           0.002      0.036\n",
      "p_difference                        0.013      0.013           0.001      0.013\n",
      "density                             0.013     -0.013           0.001      0.013\n",
      "flow_rate                           0.027     -0.027           0.002      0.026\n",
      "length                              0.014     -0.014           0.001      0.015\n"
     ]
    }
   ],
   "source": [
    "# Finally, we obtain our sensitivity analysis metrics\n",
    "Si = morris.analyze(problem, param_values, y,\n",
    "                    print_to_console=True,\n",
    "                    num_levels=4)"
   ]
  },
  {
   "cell_type": "markdown",
   "metadata": {},
   "source": [
    "We can see that we obtained similar values for mu_star and sigma, so our attempt at the implementation of Morris method seems to be successful."
   ]
  },
  {
   "cell_type": "markdown",
   "metadata": {},
   "source": [
    "## 3. Morris method extensions"
   ]
  },
  {
   "cell_type": "markdown",
   "metadata": {},
   "source": [
    "Morris Method has a few limitations - for example, it cannot distinguish non-linear and interaction effects, or sometimes, despite a large number of model evaluations, the input parameter space is not well represented in the sample. A few methods were recently developed to improve the original Morris method: some examples include identification of optimal trajectories (included in SALib package), radial based sampling of trajectories, quasi-random sampling of parameter space. In this final section I decided to try to implement one of these extensions - an LH-OAT sampling method (a combination of latin hypercube sampling with one-at-a-time trajectory sampling allowing for efficient calculation of elementary effects), developed by van Griensven et al. (2006).\n",
    "\n",
    "Unfortunately, I couldn't find a package implementing this method, so I didn't have time to validate my implementation. Moreover, the description of the method is brief, so I may have misinterpreted some of the steps."
   ]
  },
  {
   "cell_type": "markdown",
   "metadata": {},
   "source": [
    "### LH-OAT Method: Steps"
   ]
  },
  {
   "cell_type": "markdown",
   "metadata": {},
   "source": [
    "1. Take N Latin Hypercube samples\n",
    "2. For each LH point calculate a partial elementary effect $S_{i,j}$, defined as:\n",
    "\n",
    "$$ S_{i,j} = \\left |\\frac{100*\\frac{M(e_1,...,e_i*(1+f_i),...,e_p)-M(e_1,...,e_i,...,e_p)}{(M(e_1,...,e_i*(1+f_i),...,e_p)+M(e_1,...,e_i,...,e_p))/2}}{f_i}\\right | $$\n",
    "\n",
    "where $M(e)$ are model evalutations at given points, $f_i$ is a predefined increment value (usually in percentage), $p$ is number of input factors. The parameter is randomly chosen to be increased or decreased by $f_i$.\n"
   ]
  },
  {
   "cell_type": "markdown",
   "metadata": {},
   "source": [
    "### LH-OAT Method: Implementation"
   ]
  },
  {
   "cell_type": "markdown",
   "metadata": {},
   "source": [
    "I first implement a latin hypercube sampler that samples from a uniform distribution with boundaries of (0,1). A latin hypercube sampler is implemented in SALib package and is also coming to SciPy in version 1.7"
   ]
  },
  {
   "cell_type": "code",
   "execution_count": 19,
   "metadata": {},
   "outputs": [],
   "source": [
    "def lhs(factors, trajectories):\n",
    "    \"\"\"\n",
    "    Implementation of Latin Hypercube sampler for LH-OAT.\n",
    "    \n",
    "    \"\"\"\n",
    "    iter_length = 1/(trajectories+1)\n",
    "    x_star = np.zeros([trajectories+1, factors])\n",
    "    \n",
    "    for i in range(len(x_star) - 1):\n",
    "        lower_bound = i*iter_length\n",
    "        upper_bound = lower_bound + iter_length\n",
    "        x_star[i+1,:] = lower_bound + np.random.rand(1, factors)*(upper_bound - lower_bound)\n",
    "    \n",
    "    x_star = x_star[1:]\n",
    "    for i in range(factors):\n",
    "        order = np.random.permutation(range(trajectories))\n",
    "        x_star[:, i] = x_star[order, i]\n",
    "    \n",
    "    return x_star"
   ]
  },
  {
   "cell_type": "markdown",
   "metadata": {},
   "source": [
    "Then I implemented a method to calculate the elementary effects as described in van Griensven's paper. The delta is chosen to be a percentage of value of each factor, rather than pre-defined step. A key point to remember while implementing elementary effects methods is to ensure that delta is calculated **before** scaling the input factors. Delta always describes a step size in the sample space.\n",
    "\n",
    "In LH-OAT you generally only look at the means of the obtained elementary effects and use them to rank the factors in terms of importance."
   ]
  },
  {
   "cell_type": "code",
   "execution_count": 20,
   "metadata": {},
   "outputs": [],
   "source": [
    "def lh_oat(x, model, perc, factors, trajectories, num_vals, var):\n",
    "    \n",
    "    partial_effects = np.empty([trajectories, factors])\n",
    "    for i in range(trajectories):\n",
    "        for j in range(factors):\n",
    "            args = x[i].tolist()\n",
    "            args1 = args.copy()\n",
    "            \n",
    "            # Obtain delta before scaling.\n",
    "            delta = perc*args[j]\n",
    "        \n",
    "            # Choose randomly whether a parameter is increased or decreased by fi/delta.\n",
    "            if np.random.rand(1) > 0.5:\n",
    "                args1[j] = delta+args[j]\n",
    "    \n",
    "            else:\n",
    "                args1[j] = args[j]-delta\n",
    "            \n",
    "            # Scale parameters\n",
    "            args = (num_vals*(1+var)-num_vals*(1-var))*args+(num_vals*(1-var))\n",
    "            args1 = (num_vals*(1+var)-num_vals*(1-var))*args1+(num_vals*(1-var)) \n",
    "            \n",
    "            # Obtain partial effects\n",
    "            partial_effects[i,j] = np.abs(100*(model(args1)-model(args))/(0.5*(model(args1)+model(args)))/delta)\n",
    "\n",
    "            \n",
    "    pe_mean = [np.mean(partial_effects[:,i]) for i in range(factors)]\n",
    "    \n",
    "    # Obtain ranks\n",
    "    temp = np.array(pe_mean).argsort()[::-1]\n",
    "    ranks = np.empty_like(temp)\n",
    "    ranks[temp] = np.arange(len(pe_mean)) + 1\n",
    "    \n",
    "    return pe_mean, ranks"
   ]
  },
  {
   "cell_type": "markdown",
   "metadata": {},
   "source": [
    "We can test this implementation on our friction factor model to see if the same factors are identified as \"important\""
   ]
  },
  {
   "cell_type": "code",
   "execution_count": 21,
   "metadata": {},
   "outputs": [
    {
     "name": "stdout",
     "output_type": "stream",
     "text": [
      "factor rank\n",
      "diameter 1\n",
      "pressure loss 3\n",
      "density 4\n",
      "flow_rate 2\n",
      "length 5\n"
     ]
    }
   ],
   "source": [
    "sample_lhs = lhs(5,1000);\n",
    "partial_effects, ranks = lh_oat(sample_lhs, friction_factor, 0.05, 5, 1000,np.array([0.05,80,1000,0.003,0.2]), 0.25)\n",
    "\n",
    "print('factor', 'rank')\n",
    "for i in range(len(ranks)):\n",
    "    print(legend[i], ranks[i])"
   ]
  },
  {
   "cell_type": "markdown",
   "metadata": {},
   "source": [
    "Again, diameter has been identified as the most important factor, followed by flow rate, which was expected."
   ]
  }
 ],
 "metadata": {
  "kernelspec": {
   "display_name": "scipy-dev",
   "language": "python",
   "name": "scipy-dev"
  },
  "language_info": {
   "codemirror_mode": {
    "name": "ipython",
    "version": 3
   },
   "file_extension": ".py",
   "mimetype": "text/x-python",
   "name": "python",
   "nbconvert_exporter": "python",
   "pygments_lexer": "ipython3",
   "version": "3.8.5"
  }
 },
 "nbformat": 4,
 "nbformat_minor": 2
}
